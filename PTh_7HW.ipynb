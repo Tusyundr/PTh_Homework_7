{
  "cells": [
    {
      "cell_type": "markdown",
      "metadata": {
        "id": "c-npwp0Kqvl6"
      },
      "source": [
        "## Задача 1.\n",
        "_Даны две независимые выборки. Не соблюдается условие нормальности_\n",
        "\n",
        "$x1: 380, 420, 290$<br>\n",
        "$y1: 140, 360, 200, 900$\n",
        "\n",
        "_Сделайте вывод по результатам, полученным с помощью функции_"
      ]
    },
    {
      "cell_type": "markdown",
      "metadata": {
        "id": "slAhlKKgqvl8"
      },
      "source": [
        "Используем критерий Манна – Уитни.\n",
        "\n",
        "$H_0:\\mu_0=\\mu_1$  \n",
        "$H_1:\\mu_0\\not=\\mu_1$"
      ]
    },
    {
      "cell_type": "code",
      "execution_count": 1,
      "metadata": {
        "id": "qMQRx400qvl9"
      },
      "outputs": [],
      "source": [
        "from scipy import stats\n",
        "import numpy as np"
      ]
    },
    {
      "cell_type": "code",
      "execution_count": 2,
      "metadata": {
        "id": "TaP6WAGZqvl_"
      },
      "outputs": [],
      "source": [
        "x = np.array([380, 420, 290])\n",
        "y = np.array([140, 360, 200, 900])"
      ]
    },
    {
      "cell_type": "code",
      "execution_count": 3,
      "metadata": {
        "colab": {
          "base_uri": "https://localhost:8080/"
        },
        "id": "4hSvZ4liqvl_",
        "outputId": "949001d5-ef08-45ee-8d60-bd1dabeb6d68"
      },
      "outputs": [
        {
          "output_type": "execute_result",
          "data": {
            "text/plain": [
              "MannwhitneyuResult(statistic=8.0, pvalue=0.6285714285714286)"
            ]
          },
          "metadata": {},
          "execution_count": 3
        }
      ],
      "source": [
        "stats.mannwhitneyu(x, y)"
      ]
    },
    {
      "cell_type": "markdown",
      "metadata": {
        "id": "vGgZwEsfqvmB"
      },
      "source": [
        "$pvalue$ больше любых стандартных $\\alpha$, следовательно нулевая гипотеза об отсутствии статистически значимых различий принимается."
      ]
    },
    {
      "cell_type": "markdown",
      "metadata": {
        "id": "MwD06j3wqvmB"
      },
      "source": [
        "## Задача 2.\n",
        "_Исследовалось влияние препарата на уровень давления пациентов. Сначала измерялось давление до приема препарата, потом через 10 минут и через 30 минут._\n",
        "_Есть ли статистически значимые различия?_\n",
        "\n",
        "\n",
        "$1$е измерение до приема препарата: $150, 160, 165, 145, 155$<br>\n",
        "$2$е измерение через $10$ минут: $140, 155, 150, 130, 135$<br>\n",
        "$3$е измерение через $30$ минут: $130, 130, 120, 130, 125$<br>"
      ]
    },
    {
      "cell_type": "markdown",
      "metadata": {
        "id": "rPGNBcX3qvmC"
      },
      "source": [
        "\n",
        "Используем критерий Фридмана.\n",
        "\n",
        "$H_0:\\mu_0=\\mu_1$  \n",
        "$H_1:\\mu_0\\not=\\mu_1$  \n",
        "$\\alpha=0.05$"
      ]
    },
    {
      "cell_type": "code",
      "execution_count": 4,
      "metadata": {
        "id": "N_mV31CEqvmD"
      },
      "outputs": [],
      "source": [
        "a = np.array ([150, 160, 165, 145, 155])\n",
        "b = np.array ([140, 155, 150, 130, 135])\n",
        "c = np.array ([130, 130, 120, 130, 125])"
      ]
    },
    {
      "cell_type": "code",
      "execution_count": 5,
      "metadata": {
        "id": "S0mLBtS5qvmD",
        "outputId": "13f50cef-a18f-46e9-cbf1-4dcdc9f1d540",
        "colab": {
          "base_uri": "https://localhost:8080/"
        }
      },
      "outputs": [
        {
          "output_type": "execute_result",
          "data": {
            "text/plain": [
              "FriedmanchisquareResult(statistic=9.578947368421062, pvalue=0.00831683351100441)"
            ]
          },
          "metadata": {},
          "execution_count": 5
        }
      ],
      "source": [
        "stats.friedmanchisquare(a, b, c)"
      ]
    },
    {
      "cell_type": "markdown",
      "metadata": {
        "id": "KtWnSrfsqvmE"
      },
      "source": [
        "$pvalue < \\alpha\\$\n",
        "\n",
        "$0.0083 < 0.05$\n",
        "\n",
        "т.о. нулевая гипотеза об отсутствии статистически значимых различий отвергается. Статистически значимые различия есть."
      ]
    },
    {
      "cell_type": "markdown",
      "metadata": {
        "id": "ayuveT3kqvmE"
      },
      "source": [
        "## Задача 3.\n",
        "_Сравните $1$ и $2$-е измерения, предполагая, что $3$го измерения через $30$ минут не было._"
      ]
    },
    {
      "cell_type": "markdown",
      "metadata": {
        "id": "vGoYp7pGqvmF"
      },
      "source": [
        "Используем критерий Уилкоксона.\n",
        "\n",
        "$H_0:\\mu_0=\\mu_1$  \n",
        "$H_1:\\mu_0\\not=\\mu_1$  \n",
        "$\\alpha=0.05$"
      ]
    },
    {
      "cell_type": "code",
      "execution_count": 6,
      "metadata": {
        "id": "rHlV-3DNqvmG",
        "outputId": "01ebe4c5-cc77-4c00-c8cf-b3dedf9cb602",
        "colab": {
          "base_uri": "https://localhost:8080/"
        }
      },
      "outputs": [
        {
          "output_type": "execute_result",
          "data": {
            "text/plain": [
              "WilcoxonResult(statistic=0.0, pvalue=0.0625)"
            ]
          },
          "metadata": {},
          "execution_count": 6
        }
      ],
      "source": [
        "stats.wilcoxon(a, b)"
      ]
    },
    {
      "cell_type": "markdown",
      "metadata": {
        "id": "iuukBVhqqvmH"
      },
      "source": [
        "$pvalue > \\alpha\\$\n",
        "\n",
        "$0.0625 > 0.05$\n",
        "\n",
        "т.о. нулевая гипотеза об отсутствии статистически значимых различий принимается. Статистически значимых различий нет."
      ]
    },
    {
      "cell_type": "markdown",
      "metadata": {
        "id": "MZYPiufqqvmI"
      },
      "source": [
        "## Задача 4.\n",
        "\n",
        "_Даны $3$ группы учеников плавания._\n",
        "\n",
        "В $1$ группе время на дистанцию $50$ м составляют: $56, 60, 62, 55, 71, 67, 59, 58, 64, 67$<br>\n",
        "Вторая группа: $57, 58, 69, 48, 72, 70, 68, 71, 50, 53$<br>\n",
        "Третья группа: $57, 67, 49, 48, 47, 55, 66, 51, 54$<br>"
      ]
    },
    {
      "cell_type": "markdown",
      "metadata": {
        "id": "VceBTGlTqvmJ"
      },
      "source": [
        "Используем критерий Крускала – Уоллиса.\n",
        "\n",
        "$H_0:\\mu_0=\\mu_1$  \n",
        "$H_1:\\mu_0\\not=\\mu_1$  \n",
        "$\\alpha=0.05$"
      ]
    },
    {
      "cell_type": "code",
      "execution_count": 7,
      "metadata": {
        "id": "lZQfge8DqvmJ",
        "outputId": "4a4cbd70-3064-4ede-b9e8-212e412b7b2f",
        "colab": {
          "base_uri": "https://localhost:8080/"
        }
      },
      "outputs": [
        {
          "output_type": "execute_result",
          "data": {
            "text/plain": [
              "KruskalResult(statistic=5.465564058257224, pvalue=0.0650380998590494)"
            ]
          },
          "metadata": {},
          "execution_count": 7
        }
      ],
      "source": [
        "g1 =([56, 60, 62, 55, 71, 67, 59, 58, 64, 67])\n",
        "g2 = ([57, 58, 69, 48, 72, 70, 68, 71, 50, 53])\n",
        "g3 = ([57, 67, 49, 48, 47, 55, 66, 51, 54])\n",
        "\n",
        "stats.kruskal(g1, g2, g3)"
      ]
    },
    {
      "cell_type": "markdown",
      "metadata": {
        "id": "gSBCK65ZqvmK"
      },
      "source": [
        "$pvalue > \\alpha\\$\n",
        "\n",
        "$0.065 > 0.05$\n",
        "\n",
        "т.о. нулевая гипотеза об отсутствии статистически значимых различий принимается.Статистически значимых различий нет."
      ]
    },
    {
      "cell_type": "markdown",
      "metadata": {
        "id": "I6xD7Kp-qvmK"
      },
      "source": [
        "## Задача 5.\n",
        "_Заявляется, что партия изготавливается со средним арифметическим $2,5$ см.\n",
        "Проверить данную гипотезу, если известно, что размеры изделий подчинены нормальному закону распределения.Объем выборки $10$, уровень статистической значимости $5\\%$_\n",
        "\n",
        "$2.51, 2.35, 2.74, 2.56, 2.40, 2.36, 2.65, 2.7, 2.67, 2.34$"
      ]
    },
    {
      "cell_type": "markdown",
      "metadata": {
        "id": "WJerFkjSqvmK"
      },
      "source": [
        "$H_0: \\mu_x = 2.5$<br>\n",
        "$H_1: \\mu_x \\neq 2.5$\n",
        "\n",
        " $\\alpha = 0.05$\n",
        "\n",
        "$\\sigma =\\frac{1}{n-1}\\sum(X_i-\\overline{X})^2$\n",
        "\n",
        "$t=\\frac{\\overline{X}-\\mu}{\\frac{\\sigma_н}{\\sqrt{n}}}$"
      ]
    },
    {
      "cell_type": "code",
      "source": [
        "X = np.array([2.51, 2.35, 2.74, 2.56, 2.40, 2.36, 2.65, 2.7, 2.67, 2.34])\n",
        "mean_X = X.mean()\n",
        "std_X = X.std(ddof=1)\n",
        "t_fact = (mean_X - 2.5) / std_X * np.sqrt(10)\n",
        "t_fact"
      ],
      "metadata": {
        "colab": {
          "base_uri": "https://localhost:8080/"
        },
        "id": "gsCxpftof6a-",
        "outputId": "73f5018f-81eb-436d-e413-173c6f03132d"
      },
      "execution_count": 8,
      "outputs": [
        {
          "output_type": "execute_result",
          "data": {
            "text/plain": [
              "0.563061366180296"
            ]
          },
          "metadata": {},
          "execution_count": 8
        }
      ]
    },
    {
      "cell_type": "markdown",
      "metadata": {
        "id": "Tx5pXgo2qvmM"
      },
      "source": [
        "По таблице критических точек распределения Стьюдента для двухсторонней области найдем критическую точку по уровню значимости α = 0,05 и числу степеней свободы k = 9."
      ]
    },
    {
      "cell_type": "code",
      "source": [
        "stats.t.ppf(1 - 0.05 / 2, 9)"
      ],
      "metadata": {
        "colab": {
          "base_uri": "https://localhost:8080/"
        },
        "id": "FuJSW7NmgeGZ",
        "outputId": "1da93683-3ea5-4563-958b-6db1f5772982"
      },
      "execution_count": 9,
      "outputs": [
        {
          "output_type": "execute_result",
          "data": {
            "text/plain": [
              "2.2621571627409915"
            ]
          },
          "metadata": {},
          "execution_count": 9
        }
      ]
    },
    {
      "cell_type": "markdown",
      "metadata": {
        "id": "IudYZ4jkqvmO"
      },
      "source": [
        "$t_{crit}$ = 2.26\n",
        "\n",
        "$t_{fact}$ = 0.563\n",
        "\n",
        "$|t_{fact}|<t_{crit}$\n",
        "\n",
        "т.о. нулевая гипотеза принимается. Партия изготавливается со средним арифметическим 2,5 см."
      ]
    }
  ],
  "metadata": {
    "kernelspec": {
      "display_name": "Python 3",
      "language": "python",
      "name": "python3"
    },
    "language_info": {
      "codemirror_mode": {
        "name": "ipython",
        "version": 3
      },
      "file_extension": ".py",
      "mimetype": "text/x-python",
      "name": "python",
      "nbconvert_exporter": "python",
      "pygments_lexer": "ipython3",
      "version": "3.10.11"
    },
    "orig_nbformat": 4,
    "colab": {
      "provenance": []
    }
  },
  "nbformat": 4,
  "nbformat_minor": 0
}